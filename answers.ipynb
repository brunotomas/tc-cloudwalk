{
 "cells": [
  {
   "cell_type": "markdown",
   "id": "2108aaec",
   "metadata": {},
   "source": [
    "# Technical Challenge Answers"
   ]
  },
  {
   "cell_type": "markdown",
   "id": "c86b1819",
   "metadata": {},
   "source": [
    "## Database"
   ]
  },
  {
   "cell_type": "markdown",
   "id": "3f057a85",
   "metadata": {},
   "source": [
    "1. The database was built according the [Tables Structure](https://github.com/p-beraldin/lending-data-engineer-test/blob/main/README.md#tables-structure) in the test guidelines."
   ]
  },
  {
   "cell_type": "markdown",
   "id": "3f617a0f",
   "metadata": {},
   "source": [
    "2. The database was built with two tables, each one composed by the dataset `clients` and `loans`, provided in the guidelines, respectively.\n",
    "\n",
    "The relation between these two tables are done by the key `user_id`, as a primary key in `clients` table and a foreign key in `loans`. This way, each loan is assigned to a user by its id.\n",
    "\n",
    "```sql\n",
    "CREATE TABLE clients (\n",
    "\tuser_id bigint PRIMARY KEY NOT NULL,\n",
    "\tcreated_at timestamp NOT NULL,\n",
    "\tstatus varchar(50) NOT NULL,\n",
    "\tbatch bigint NOT NULL,\n",
    "\tcredit_limit bigint NOT NULL,\n",
    "\tinterest_rate bigint NOT NULL,\n",
    "\tdenied_reason text,\n",
    "\tdenied_at timestamp\n",
    ");\n",
    "\n",
    "CREATE TABLE loans (\n",
    "\tloan_id bigint PRIMARY KEY NOT NULL,\n",
    "\tuser_id bigint \n",
    "\tcreated_at timestamp NOT NULL,\n",
    "\tdue_at timestamp NOT NULL,\n",
    "\tpaid_at timestamp,\n",
    "\tstatus varchar(50) NOT NULL,\n",
    "\tloan_amount decimal NOT NULL,\n",
    "\ttax decimal NOT NULL,\n",
    "\tdue_amount decimal NOT NULL,\n",
    "\tamount_paid decimal NOT NULL,\n",
    "\t\n",
    "\tCONSTRAINT fk_client\n",
    "\t\tFOREIGN KEY(user_id) REFERENCES clients(user_id)\n",
    ");\n",
    "```\n",
    "\n",
    "\n",
    "The data from the datasets were loaded into the tables with the following queries:\n",
    "```sql\n",
    "COPY clients(user_id, created_at, status, batch, credit_limit, interest_rate, denied_reason, denied_at)\n",
    "FROM '<file location path>'\n",
    "WITH DELIMITER ','\n",
    "CSV HEADER;\n",
    "\n",
    "COPY loans(user_id, loan_id, created_at, due_at, paid_at, status, loan_amount, tax, due_amount, amount_paid)\n",
    "FROM '<file location path>'\n",
    "WITH DELIMITER ','\n",
    "CSV HEADER;\n",
    "```"
   ]
  },
  {
   "cell_type": "markdown",
   "id": "9785d771",
   "metadata": {},
   "source": [
    "## SQL and Data Viz"
   ]
  },
  {
   "cell_type": "markdown",
   "id": "be28def6",
   "metadata": {},
   "source": [
    "1."
   ]
  },
  {
   "cell_type": "code",
   "execution_count": 3,
   "id": "d6fb7566",
   "metadata": {},
   "outputs": [],
   "source": [
    "import pandas as pd\n",
    "import psycopg2 as pg\n",
    "\n",
    "engine = pg.connect(\"host=localhost port=5432 dbname=cloudwalk user=bruno password=bruno\")"
   ]
  },
  {
   "cell_type": "code",
   "execution_count": 6,
   "id": "e380b38b",
   "metadata": {},
   "outputs": [
    {
     "name": "stderr",
     "output_type": "stream",
     "text": [
      "/tmp/ipykernel_2157/3479404109.py:7: UserWarning: pandas only supports SQLAlchemy connectable (engine/connection) or database string URI or sqlite3 DBAPI2 connection. Other DBAPI2 objects are not tested. Please consider using SQLAlchemy.\n",
      "  df_3_4 = pd.read_sql(query_3_4, con=engine)\n"
     ]
    }
   ],
   "source": [
    "query_3_4 = \"\"\"\n",
    "SELECT TO_CHAR(created_at, 'YYYY-MM') AS month, COUNT(*) as number_of_loans, SUM(loan_amount) AS total_amount\n",
    "FROM loans\n",
    "GROUP BY 1;\n",
    "\"\"\"\n",
    "\n",
    "df_3_4 = pd.read_sql(query_3_4, con=engine)"
   ]
  },
  {
   "cell_type": "markdown",
   "id": "c2def72f",
   "metadata": {},
   "source": [
    "The DataFrame `df_3_4` contains the number of loans and total amount of loans by month. "
   ]
  },
  {
   "cell_type": "markdown",
   "id": "cf85122f",
   "metadata": {},
   "source": [
    "Top 10 months by number of loans:"
   ]
  },
  {
   "cell_type": "code",
   "execution_count": 9,
   "id": "e5e517e3",
   "metadata": {},
   "outputs": [
    {
     "data": {
      "text/html": [
       "<div>\n",
       "<style scoped>\n",
       "    .dataframe tbody tr th:only-of-type {\n",
       "        vertical-align: middle;\n",
       "    }\n",
       "\n",
       "    .dataframe tbody tr th {\n",
       "        vertical-align: top;\n",
       "    }\n",
       "\n",
       "    .dataframe thead th {\n",
       "        text-align: right;\n",
       "    }\n",
       "</style>\n",
       "<table border=\"1\" class=\"dataframe\">\n",
       "  <thead>\n",
       "    <tr style=\"text-align: right;\">\n",
       "      <th></th>\n",
       "      <th>month</th>\n",
       "      <th>number_of_loans</th>\n",
       "      <th>total_amount</th>\n",
       "    </tr>\n",
       "  </thead>\n",
       "  <tbody>\n",
       "    <tr>\n",
       "      <th>21</th>\n",
       "      <td>2023-12</td>\n",
       "      <td>17351</td>\n",
       "      <td>442464966.0</td>\n",
       "    </tr>\n",
       "    <tr>\n",
       "      <th>5</th>\n",
       "      <td>2024-01</td>\n",
       "      <td>16123</td>\n",
       "      <td>409112591.0</td>\n",
       "    </tr>\n",
       "    <tr>\n",
       "      <th>6</th>\n",
       "      <td>2023-11</td>\n",
       "      <td>13269</td>\n",
       "      <td>330839275.0</td>\n",
       "    </tr>\n",
       "    <tr>\n",
       "      <th>7</th>\n",
       "      <td>2023-10</td>\n",
       "      <td>11593</td>\n",
       "      <td>293005656.0</td>\n",
       "    </tr>\n",
       "    <tr>\n",
       "      <th>25</th>\n",
       "      <td>2023-09</td>\n",
       "      <td>8976</td>\n",
       "      <td>229573371.0</td>\n",
       "    </tr>\n",
       "    <tr>\n",
       "      <th>30</th>\n",
       "      <td>2023-08</td>\n",
       "      <td>7792</td>\n",
       "      <td>193164454.0</td>\n",
       "    </tr>\n",
       "    <tr>\n",
       "      <th>10</th>\n",
       "      <td>2023-07</td>\n",
       "      <td>6713</td>\n",
       "      <td>168555063.0</td>\n",
       "    </tr>\n",
       "    <tr>\n",
       "      <th>11</th>\n",
       "      <td>2023-06</td>\n",
       "      <td>5894</td>\n",
       "      <td>147375148.0</td>\n",
       "    </tr>\n",
       "    <tr>\n",
       "      <th>17</th>\n",
       "      <td>2023-05</td>\n",
       "      <td>5325</td>\n",
       "      <td>133772086.0</td>\n",
       "    </tr>\n",
       "    <tr>\n",
       "      <th>22</th>\n",
       "      <td>2023-04</td>\n",
       "      <td>4624</td>\n",
       "      <td>116296080.0</td>\n",
       "    </tr>\n",
       "  </tbody>\n",
       "</table>\n",
       "</div>"
      ],
      "text/plain": [
       "      month  number_of_loans  total_amount\n",
       "21  2023-12            17351   442464966.0\n",
       "5   2024-01            16123   409112591.0\n",
       "6   2023-11            13269   330839275.0\n",
       "7   2023-10            11593   293005656.0\n",
       "25  2023-09             8976   229573371.0\n",
       "30  2023-08             7792   193164454.0\n",
       "10  2023-07             6713   168555063.0\n",
       "11  2023-06             5894   147375148.0\n",
       "17  2023-05             5325   133772086.0\n",
       "22  2023-04             4624   116296080.0"
      ]
     },
     "execution_count": 9,
     "metadata": {},
     "output_type": "execute_result"
    }
   ],
   "source": [
    "df_3_by_loans = df_3_4.sort_values(by=['number_of_loans'], ascending=False)\n",
    "\n",
    "df_3_by_loans.head(10)"
   ]
  },
  {
   "cell_type": "markdown",
   "id": "2eaefbce",
   "metadata": {},
   "source": [
    "Top 10 months by amount:"
   ]
  },
  {
   "cell_type": "code",
   "execution_count": 12,
   "id": "a284b235",
   "metadata": {},
   "outputs": [
    {
     "data": {
      "text/html": [
       "<div>\n",
       "<style scoped>\n",
       "    .dataframe tbody tr th:only-of-type {\n",
       "        vertical-align: middle;\n",
       "    }\n",
       "\n",
       "    .dataframe tbody tr th {\n",
       "        vertical-align: top;\n",
       "    }\n",
       "\n",
       "    .dataframe thead th {\n",
       "        text-align: right;\n",
       "    }\n",
       "</style>\n",
       "<table border=\"1\" class=\"dataframe\">\n",
       "  <thead>\n",
       "    <tr style=\"text-align: right;\">\n",
       "      <th></th>\n",
       "      <th>month</th>\n",
       "      <th>number_of_loans</th>\n",
       "      <th>total_amount</th>\n",
       "    </tr>\n",
       "  </thead>\n",
       "  <tbody>\n",
       "    <tr>\n",
       "      <th>21</th>\n",
       "      <td>2023-12</td>\n",
       "      <td>17351</td>\n",
       "      <td>442464966.0</td>\n",
       "    </tr>\n",
       "    <tr>\n",
       "      <th>5</th>\n",
       "      <td>2024-01</td>\n",
       "      <td>16123</td>\n",
       "      <td>409112591.0</td>\n",
       "    </tr>\n",
       "    <tr>\n",
       "      <th>6</th>\n",
       "      <td>2023-11</td>\n",
       "      <td>13269</td>\n",
       "      <td>330839275.0</td>\n",
       "    </tr>\n",
       "    <tr>\n",
       "      <th>7</th>\n",
       "      <td>2023-10</td>\n",
       "      <td>11593</td>\n",
       "      <td>293005656.0</td>\n",
       "    </tr>\n",
       "    <tr>\n",
       "      <th>25</th>\n",
       "      <td>2023-09</td>\n",
       "      <td>8976</td>\n",
       "      <td>229573371.0</td>\n",
       "    </tr>\n",
       "    <tr>\n",
       "      <th>30</th>\n",
       "      <td>2023-08</td>\n",
       "      <td>7792</td>\n",
       "      <td>193164454.0</td>\n",
       "    </tr>\n",
       "    <tr>\n",
       "      <th>10</th>\n",
       "      <td>2023-07</td>\n",
       "      <td>6713</td>\n",
       "      <td>168555063.0</td>\n",
       "    </tr>\n",
       "    <tr>\n",
       "      <th>11</th>\n",
       "      <td>2023-06</td>\n",
       "      <td>5894</td>\n",
       "      <td>147375148.0</td>\n",
       "    </tr>\n",
       "    <tr>\n",
       "      <th>17</th>\n",
       "      <td>2023-05</td>\n",
       "      <td>5325</td>\n",
       "      <td>133772086.0</td>\n",
       "    </tr>\n",
       "    <tr>\n",
       "      <th>22</th>\n",
       "      <td>2023-04</td>\n",
       "      <td>4624</td>\n",
       "      <td>116296080.0</td>\n",
       "    </tr>\n",
       "  </tbody>\n",
       "</table>\n",
       "</div>"
      ],
      "text/plain": [
       "      month  number_of_loans  total_amount\n",
       "21  2023-12            17351   442464966.0\n",
       "5   2024-01            16123   409112591.0\n",
       "6   2023-11            13269   330839275.0\n",
       "7   2023-10            11593   293005656.0\n",
       "25  2023-09             8976   229573371.0\n",
       "30  2023-08             7792   193164454.0\n",
       "10  2023-07             6713   168555063.0\n",
       "11  2023-06             5894   147375148.0\n",
       "17  2023-05             5325   133772086.0\n",
       "22  2023-04             4624   116296080.0"
      ]
     },
     "execution_count": 12,
     "metadata": {},
     "output_type": "execute_result"
    }
   ],
   "source": [
    "df_3_by_amount = df_3_4.sort_values(by=['total_amount'], ascending=False)\n",
    "\n",
    "df_3_by_amount.head(10)"
   ]
  },
  {
   "cell_type": "markdown",
   "id": "b7e3a61a",
   "metadata": {},
   "source": [
    "As we can see, the Top 10 of all months are equal in both cases."
   ]
  },
  {
   "cell_type": "markdown",
   "id": "f7b21bd3",
   "metadata": {},
   "source": [
    "2. Let's make the calculation of the adherence by batch (clients that got loans by total of clients in a batch)"
   ]
  },
  {
   "cell_type": "code",
   "execution_count": 14,
   "id": "343f8607",
   "metadata": {},
   "outputs": [
    {
     "name": "stderr",
     "output_type": "stream",
     "text": [
      "/tmp/ipykernel_2157/308092383.py:8: UserWarning: pandas only supports SQLAlchemy connectable (engine/connection) or database string URI or sqlite3 DBAPI2 connection. Other DBAPI2 objects are not tested. Please consider using SQLAlchemy.\n",
      "  df_adherence = pd.read_sql(query_adherence, con=engine)\n"
     ]
    },
    {
     "data": {
      "text/html": [
       "<div>\n",
       "<style scoped>\n",
       "    .dataframe tbody tr th:only-of-type {\n",
       "        vertical-align: middle;\n",
       "    }\n",
       "\n",
       "    .dataframe tbody tr th {\n",
       "        vertical-align: top;\n",
       "    }\n",
       "\n",
       "    .dataframe thead th {\n",
       "        text-align: right;\n",
       "    }\n",
       "</style>\n",
       "<table border=\"1\" class=\"dataframe\">\n",
       "  <thead>\n",
       "    <tr style=\"text-align: right;\">\n",
       "      <th></th>\n",
       "      <th>batch</th>\n",
       "      <th>adherence</th>\n",
       "    </tr>\n",
       "  </thead>\n",
       "  <tbody>\n",
       "    <tr>\n",
       "      <th>0</th>\n",
       "      <td>2</td>\n",
       "      <td>47.390084</td>\n",
       "    </tr>\n",
       "    <tr>\n",
       "      <th>1</th>\n",
       "      <td>3</td>\n",
       "      <td>47.298504</td>\n",
       "    </tr>\n",
       "    <tr>\n",
       "      <th>2</th>\n",
       "      <td>4</td>\n",
       "      <td>47.211522</td>\n",
       "    </tr>\n",
       "    <tr>\n",
       "      <th>3</th>\n",
       "      <td>1</td>\n",
       "      <td>46.939937</td>\n",
       "    </tr>\n",
       "  </tbody>\n",
       "</table>\n",
       "</div>"
      ],
      "text/plain": [
       "   batch  adherence\n",
       "0      2  47.390084\n",
       "1      3  47.298504\n",
       "2      4  47.211522\n",
       "3      1  46.939937"
      ]
     },
     "execution_count": 14,
     "metadata": {},
     "output_type": "execute_result"
    }
   ],
   "source": [
    "query_adherence = \"\"\"\n",
    "    select c.batch as batch, count(distinct c.user_id)*100.0/count(c.user_id) as adherence from clients c \n",
    "    join loans l\n",
    "    on c.user_id = l.user_id\n",
    "    group by 1\n",
    "    order by 2 desc;\n",
    "\"\"\"\n",
    "df_adherence = pd.read_sql(query_adherence, con=engine)\n",
    "df_adherence"
   ]
  },
  {
   "cell_type": "markdown",
   "id": "6c820e07",
   "metadata": {},
   "source": [
    "As we can see, all batches have, approximately, the same adherence, with rates varying from 46.9% to 47.3%. Batch 2 was the best one and 1 the worst one."
   ]
  },
  {
   "cell_type": "markdown",
   "id": "0499fdbc",
   "metadata": {},
   "source": [
    "3. Let's calculate the default rate by interest rate.\n",
    "\n",
    "Interest rate is given by subtracting from the due amount taxes and the loan amount (divided by the loan amount to calculate percentage)."
   ]
  },
  {
   "cell_type": "code",
   "execution_count": 16,
   "id": "f73703cb",
   "metadata": {},
   "outputs": [
    {
     "name": "stderr",
     "output_type": "stream",
     "text": [
      "/tmp/ipykernel_2157/1749365740.py:9: UserWarning: pandas only supports SQLAlchemy connectable (engine/connection) or database string URI or sqlite3 DBAPI2 connection. Other DBAPI2 objects are not tested. Please consider using SQLAlchemy.\n",
      "  df_default = pd.read_sql(query_default, con=engine)\n"
     ]
    },
    {
     "data": {
      "text/html": [
       "<div>\n",
       "<style scoped>\n",
       "    .dataframe tbody tr th:only-of-type {\n",
       "        vertical-align: middle;\n",
       "    }\n",
       "\n",
       "    .dataframe tbody tr th {\n",
       "        vertical-align: top;\n",
       "    }\n",
       "\n",
       "    .dataframe thead th {\n",
       "        text-align: right;\n",
       "    }\n",
       "</style>\n",
       "<table border=\"1\" class=\"dataframe\">\n",
       "  <thead>\n",
       "    <tr style=\"text-align: right;\">\n",
       "      <th></th>\n",
       "      <th>interest_rate</th>\n",
       "      <th>default_rate</th>\n",
       "    </tr>\n",
       "  </thead>\n",
       "  <tbody>\n",
       "    <tr>\n",
       "      <th>0</th>\n",
       "      <td>22.5</td>\n",
       "      <td>8.256712</td>\n",
       "    </tr>\n",
       "    <tr>\n",
       "      <th>1</th>\n",
       "      <td>17.5</td>\n",
       "      <td>8.225585</td>\n",
       "    </tr>\n",
       "    <tr>\n",
       "      <th>2</th>\n",
       "      <td>7.5</td>\n",
       "      <td>8.222656</td>\n",
       "    </tr>\n",
       "    <tr>\n",
       "      <th>3</th>\n",
       "      <td>5.0</td>\n",
       "      <td>8.051026</td>\n",
       "    </tr>\n",
       "  </tbody>\n",
       "</table>\n",
       "</div>"
      ],
      "text/plain": [
       "   interest_rate  default_rate\n",
       "0           22.5      8.256712\n",
       "1           17.5      8.225585\n",
       "2            7.5      8.222656\n",
       "3            5.0      8.051026"
      ]
     },
     "execution_count": 16,
     "metadata": {},
     "output_type": "execute_result"
    }
   ],
   "source": [
    "query_default = \"\"\"\n",
    "    select \n",
    "\t    round((due_amount-tax-loan_amount)*100/loan_amount, 1) as interest_rate,\n",
    "\t    (count(*) filter (where status = 'default'))*100.0/count(*) as default_rate\n",
    "    from loans\n",
    "    group by 1\n",
    "    order by 2 desc;\n",
    "\"\"\"\n",
    "df_default = pd.read_sql(query_default, con=engine)\n",
    "df_default"
   ]
  },
  {
   "cell_type": "markdown",
   "id": "d00a5f8e",
   "metadata": {},
   "source": [
    "As we can see from the above dataframe, there is a slightly higher default rate (8.26%) on 22.5% interest. 17.5 and 7.5% see equal default rate, and 5% rate sees a lower default rate of 8.05%, indicating that the lower interest rate shows a higher probability of payment, but not that higher, being just 0.2% higher and seing no increment after 7.5% rate. "
   ]
  },
  {
   "cell_type": "markdown",
   "id": "3a3b6247",
   "metadata": {},
   "source": [
    "4. Let's first rank the best 10 clients. For a simple rank, let's consider that the best clients are the ones that pay the total amount of loans, or the most percentage of them. To avoid ties, let's give as a secondary rank rule the amount of money lent, since a person who pays 100% of a larger amount is expected to repeat the same pattern on a future loan. "
   ]
  },
  {
   "cell_type": "code",
   "execution_count": 18,
   "id": "06e7609f",
   "metadata": {},
   "outputs": [
    {
     "name": "stderr",
     "output_type": "stream",
     "text": [
      "/tmp/ipykernel_2157/1942169499.py:7: UserWarning: pandas only supports SQLAlchemy connectable (engine/connection) or database string URI or sqlite3 DBAPI2 connection. Other DBAPI2 objects are not tested. Please consider using SQLAlchemy.\n",
      "  df_top10_clients = pd.read_sql(query_top10_clients, con=engine)\n"
     ]
    },
    {
     "data": {
      "text/html": [
       "<div>\n",
       "<style scoped>\n",
       "    .dataframe tbody tr th:only-of-type {\n",
       "        vertical-align: middle;\n",
       "    }\n",
       "\n",
       "    .dataframe tbody tr th {\n",
       "        vertical-align: top;\n",
       "    }\n",
       "\n",
       "    .dataframe thead th {\n",
       "        text-align: right;\n",
       "    }\n",
       "</style>\n",
       "<table border=\"1\" class=\"dataframe\">\n",
       "  <thead>\n",
       "    <tr style=\"text-align: right;\">\n",
       "      <th></th>\n",
       "      <th>user_id</th>\n",
       "      <th>payment_rate</th>\n",
       "      <th>due_amount</th>\n",
       "    </tr>\n",
       "  </thead>\n",
       "  <tbody>\n",
       "    <tr>\n",
       "      <th>0</th>\n",
       "      <td>80867</td>\n",
       "      <td>100.0</td>\n",
       "      <td>416461.63</td>\n",
       "    </tr>\n",
       "    <tr>\n",
       "      <th>1</th>\n",
       "      <td>74414</td>\n",
       "      <td>100.0</td>\n",
       "      <td>413813.50</td>\n",
       "    </tr>\n",
       "    <tr>\n",
       "      <th>2</th>\n",
       "      <td>84194</td>\n",
       "      <td>100.0</td>\n",
       "      <td>405583.96</td>\n",
       "    </tr>\n",
       "    <tr>\n",
       "      <th>3</th>\n",
       "      <td>14050</td>\n",
       "      <td>100.0</td>\n",
       "      <td>403217.18</td>\n",
       "    </tr>\n",
       "    <tr>\n",
       "      <th>4</th>\n",
       "      <td>8950</td>\n",
       "      <td>100.0</td>\n",
       "      <td>381074.56</td>\n",
       "    </tr>\n",
       "    <tr>\n",
       "      <th>5</th>\n",
       "      <td>71171</td>\n",
       "      <td>100.0</td>\n",
       "      <td>355880.15</td>\n",
       "    </tr>\n",
       "    <tr>\n",
       "      <th>6</th>\n",
       "      <td>16710</td>\n",
       "      <td>100.0</td>\n",
       "      <td>351265.85</td>\n",
       "    </tr>\n",
       "    <tr>\n",
       "      <th>7</th>\n",
       "      <td>32391</td>\n",
       "      <td>100.0</td>\n",
       "      <td>349722.75</td>\n",
       "    </tr>\n",
       "    <tr>\n",
       "      <th>8</th>\n",
       "      <td>2473</td>\n",
       "      <td>100.0</td>\n",
       "      <td>345422.07</td>\n",
       "    </tr>\n",
       "    <tr>\n",
       "      <th>9</th>\n",
       "      <td>26637</td>\n",
       "      <td>100.0</td>\n",
       "      <td>341975.09</td>\n",
       "    </tr>\n",
       "  </tbody>\n",
       "</table>\n",
       "</div>"
      ],
      "text/plain": [
       "   user_id  payment_rate  due_amount\n",
       "0    80867         100.0   416461.63\n",
       "1    74414         100.0   413813.50\n",
       "2    84194         100.0   405583.96\n",
       "3    14050         100.0   403217.18\n",
       "4     8950         100.0   381074.56\n",
       "5    71171         100.0   355880.15\n",
       "6    16710         100.0   351265.85\n",
       "7    32391         100.0   349722.75\n",
       "8     2473         100.0   345422.07\n",
       "9    26637         100.0   341975.09"
      ]
     },
     "execution_count": 18,
     "metadata": {},
     "output_type": "execute_result"
    }
   ],
   "source": [
    "query_top10_clients = \"\"\"\n",
    "    select user_id, sum(amount_paid)*100/sum(due_amount) as payment_rate, sum(due_amount) as due_amount from loans\n",
    "    group by 1\n",
    "    order by 2 desc, 3 desc\n",
    "    limit 10;\n",
    "\"\"\"\n",
    "df_top10_clients = pd.read_sql(query_top10_clients, con=engine)\n",
    "df_top10_clients"
   ]
  },
  {
   "cell_type": "markdown",
   "id": "e8b0f8ba",
   "metadata": {},
   "source": [
    "We can use the same reasoning for the worst 10 clients, but it is unlikely to have ties on the payment rate, but we'll keep them on the query for the sake of data analysis."
   ]
  },
  {
   "cell_type": "code",
   "execution_count": 20,
   "id": "ca7f1de6",
   "metadata": {},
   "outputs": [
    {
     "name": "stderr",
     "output_type": "stream",
     "text": [
      "/tmp/ipykernel_2157/4190710623.py:7: UserWarning: pandas only supports SQLAlchemy connectable (engine/connection) or database string URI or sqlite3 DBAPI2 connection. Other DBAPI2 objects are not tested. Please consider using SQLAlchemy.\n",
      "  df_worst10_clients = pd.read_sql(query_worst10_clients, con=engine)\n"
     ]
    },
    {
     "data": {
      "text/html": [
       "<div>\n",
       "<style scoped>\n",
       "    .dataframe tbody tr th:only-of-type {\n",
       "        vertical-align: middle;\n",
       "    }\n",
       "\n",
       "    .dataframe tbody tr th {\n",
       "        vertical-align: top;\n",
       "    }\n",
       "\n",
       "    .dataframe thead th {\n",
       "        text-align: right;\n",
       "    }\n",
       "</style>\n",
       "<table border=\"1\" class=\"dataframe\">\n",
       "  <thead>\n",
       "    <tr style=\"text-align: right;\">\n",
       "      <th></th>\n",
       "      <th>user_id</th>\n",
       "      <th>payment_rate</th>\n",
       "      <th>due_amount</th>\n",
       "    </tr>\n",
       "  </thead>\n",
       "  <tbody>\n",
       "    <tr>\n",
       "      <th>0</th>\n",
       "      <td>52295</td>\n",
       "      <td>0.000430</td>\n",
       "      <td>4651.02</td>\n",
       "    </tr>\n",
       "    <tr>\n",
       "      <th>1</th>\n",
       "      <td>18502</td>\n",
       "      <td>0.013430</td>\n",
       "      <td>1638.11</td>\n",
       "    </tr>\n",
       "    <tr>\n",
       "      <th>2</th>\n",
       "      <td>73736</td>\n",
       "      <td>0.019131</td>\n",
       "      <td>37373.43</td>\n",
       "    </tr>\n",
       "    <tr>\n",
       "      <th>3</th>\n",
       "      <td>55008</td>\n",
       "      <td>0.026958</td>\n",
       "      <td>4228.80</td>\n",
       "    </tr>\n",
       "    <tr>\n",
       "      <th>4</th>\n",
       "      <td>44494</td>\n",
       "      <td>0.036100</td>\n",
       "      <td>37285.20</td>\n",
       "    </tr>\n",
       "    <tr>\n",
       "      <th>5</th>\n",
       "      <td>16387</td>\n",
       "      <td>0.036592</td>\n",
       "      <td>13992.18</td>\n",
       "    </tr>\n",
       "    <tr>\n",
       "      <th>6</th>\n",
       "      <td>38103</td>\n",
       "      <td>0.039801</td>\n",
       "      <td>96430.69</td>\n",
       "    </tr>\n",
       "    <tr>\n",
       "      <th>7</th>\n",
       "      <td>82131</td>\n",
       "      <td>0.041015</td>\n",
       "      <td>44861.33</td>\n",
       "    </tr>\n",
       "    <tr>\n",
       "      <th>8</th>\n",
       "      <td>52023</td>\n",
       "      <td>0.043832</td>\n",
       "      <td>59363.47</td>\n",
       "    </tr>\n",
       "    <tr>\n",
       "      <th>9</th>\n",
       "      <td>3737</td>\n",
       "      <td>0.048172</td>\n",
       "      <td>12310.18</td>\n",
       "    </tr>\n",
       "  </tbody>\n",
       "</table>\n",
       "</div>"
      ],
      "text/plain": [
       "   user_id  payment_rate  due_amount\n",
       "0    52295      0.000430     4651.02\n",
       "1    18502      0.013430     1638.11\n",
       "2    73736      0.019131    37373.43\n",
       "3    55008      0.026958     4228.80\n",
       "4    44494      0.036100    37285.20\n",
       "5    16387      0.036592    13992.18\n",
       "6    38103      0.039801    96430.69\n",
       "7    82131      0.041015    44861.33\n",
       "8    52023      0.043832    59363.47\n",
       "9     3737      0.048172    12310.18"
      ]
     },
     "execution_count": 20,
     "metadata": {},
     "output_type": "execute_result"
    }
   ],
   "source": [
    "query_worst10_clients = \"\"\"\n",
    "    select user_id, sum(amount_paid)*100/sum(due_amount) as payment_rate, sum(due_amount) as due_amount from loans\n",
    "    group by 1\n",
    "    order by 2, 3\n",
    "    limit 10;\n",
    "\"\"\"\n",
    "df_worst10_clients = pd.read_sql(query_worst10_clients, con=engine)\n",
    "df_worst10_clients"
   ]
  },
  {
   "cell_type": "markdown",
   "id": "3fed2bd1",
   "metadata": {},
   "source": [
    "This ranking system is considerably simple and does not consider the aging of a loan to be less important than a more recent loan. As an improvement example from another approach more focused on a machine learning environment, a Naive Bayes algorithm to calculate the probability of default of a future loan given all the data on the database as a training set would be a suitable ranking to determine the best and worst clients. The metric would be only the probability of default, meaning that a lower probability would correspond to a better client. This can even lead to a trigger rule to avoid new loans from a client if this probability of default would pass a determined treshold."
   ]
  },
  {
   "cell_type": "markdown",
   "id": "416df830",
   "metadata": {},
   "source": [
    "5. Let's calculate the default rate, just like we did before, but grouped by month and batch. "
   ]
  },
  {
   "cell_type": "code",
   "execution_count": 22,
   "id": "6eabd7c2",
   "metadata": {},
   "outputs": [
    {
     "name": "stderr",
     "output_type": "stream",
     "text": [
      "/tmp/ipykernel_2157/2379545212.py:9: UserWarning: pandas only supports SQLAlchemy connectable (engine/connection) or database string URI or sqlite3 DBAPI2 connection. Other DBAPI2 objects are not tested. Please consider using SQLAlchemy.\n",
      "  df_default_by_month_batch = pd.read_sql(query_default_by_month_batch, con=engine)\n"
     ]
    },
    {
     "data": {
      "text/html": [
       "<div>\n",
       "<style scoped>\n",
       "    .dataframe tbody tr th:only-of-type {\n",
       "        vertical-align: middle;\n",
       "    }\n",
       "\n",
       "    .dataframe tbody tr th {\n",
       "        vertical-align: top;\n",
       "    }\n",
       "\n",
       "    .dataframe thead th {\n",
       "        text-align: right;\n",
       "    }\n",
       "</style>\n",
       "<table border=\"1\" class=\"dataframe\">\n",
       "  <thead>\n",
       "    <tr style=\"text-align: right;\">\n",
       "      <th></th>\n",
       "      <th>month</th>\n",
       "      <th>batch</th>\n",
       "      <th>default_rate</th>\n",
       "    </tr>\n",
       "  </thead>\n",
       "  <tbody>\n",
       "    <tr>\n",
       "      <th>0</th>\n",
       "      <td>2020-01</td>\n",
       "      <td>1</td>\n",
       "      <td>8.333333</td>\n",
       "    </tr>\n",
       "    <tr>\n",
       "      <th>1</th>\n",
       "      <td>2020-01</td>\n",
       "      <td>2</td>\n",
       "      <td>33.333333</td>\n",
       "    </tr>\n",
       "    <tr>\n",
       "      <th>2</th>\n",
       "      <td>2020-01</td>\n",
       "      <td>3</td>\n",
       "      <td>100.000000</td>\n",
       "    </tr>\n",
       "    <tr>\n",
       "      <th>3</th>\n",
       "      <td>2020-02</td>\n",
       "      <td>1</td>\n",
       "      <td>13.888889</td>\n",
       "    </tr>\n",
       "    <tr>\n",
       "      <th>4</th>\n",
       "      <td>2020-02</td>\n",
       "      <td>2</td>\n",
       "      <td>15.000000</td>\n",
       "    </tr>\n",
       "  </tbody>\n",
       "</table>\n",
       "</div>"
      ],
      "text/plain": [
       "     month  batch  default_rate\n",
       "0  2020-01      1      8.333333\n",
       "1  2020-01      2     33.333333\n",
       "2  2020-01      3    100.000000\n",
       "3  2020-02      1     13.888889\n",
       "4  2020-02      2     15.000000"
      ]
     },
     "execution_count": 22,
     "metadata": {},
     "output_type": "execute_result"
    }
   ],
   "source": [
    "query_default_by_month_batch = \"\"\"\n",
    "    select to_char(l.created_at, 'YYYY-MM') as month, c.batch as batch, (count(*) filter (where l.status = 'default'))*100.0/count(*) as default_rate from loans l\n",
    "    join clients c \n",
    "    on l.user_id = c.user_id\n",
    "    group by 1, 2\n",
    "    order by 1, 2;\n",
    "\"\"\"\n",
    "\n",
    "df_default_by_month_batch = pd.read_sql(query_default_by_month_batch, con=engine)\n",
    "df_default_by_month_batch.head()\n",
    "\n"
   ]
  },
  {
   "cell_type": "markdown",
   "id": "7098bbc4",
   "metadata": {},
   "source": [
    "6. "
   ]
  }
 ],
 "metadata": {
  "kernelspec": {
   "display_name": "Python 3 (ipykernel)",
   "language": "python",
   "name": "python3"
  },
  "language_info": {
   "codemirror_mode": {
    "name": "ipython",
    "version": 3
   },
   "file_extension": ".py",
   "mimetype": "text/x-python",
   "name": "python",
   "nbconvert_exporter": "python",
   "pygments_lexer": "ipython3",
   "version": "3.10.12"
  }
 },
 "nbformat": 4,
 "nbformat_minor": 5
}
